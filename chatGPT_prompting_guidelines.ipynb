{
 "cells": [
  {
   "cell_type": "code",
   "execution_count": 7,
   "id": "ae980242-545e-4822-989f-5a5a29b1b7e0",
   "metadata": {},
   "outputs": [],
   "source": [
    "import openai\n",
    "import os\n",
    "import json"
   ]
  },
  {
   "cell_type": "code",
   "execution_count": 11,
   "id": "c8ec1726-48e0-497d-b25c-3eb253726aac",
   "metadata": {},
   "outputs": [],
   "source": [
    "openai.api_key = 'OPENAI_API_KEY'"
   ]
  },
  {
   "cell_type": "code",
   "execution_count": 13,
   "id": "78875292-32ab-4eb5-b77b-fed40f50e7f5",
   "metadata": {},
   "outputs": [],
   "source": [
    "def get_completion(prompt, model = \"gpt-3.5-turbo\"):\n",
    "    messages = [{\"role\": \"user\", \"content\": prompt}]\n",
    "    response = openai.ChatCompletion.create(\n",
    "        model=model,\n",
    "        messages=messages,\n",
    "        temperature=0, # this is the degree of randomness of the model's output\n",
    "    )\n",
    "    return response.choices[0].message[\"content\"]"
   ]
  },
  {
   "cell_type": "code",
   "execution_count": 14,
   "id": "c0b71a8e-f5be-4df3-a55f-f9b9dcfaf359",
   "metadata": {},
   "outputs": [
    {
     "name": "stdout",
     "output_type": "stream",
     "text": [
      "Clear and specific instructions should be provided to guide a model towards the desired output, and longer prompts can provide more clarity and context for the model, leading to more detailed and relevant outputs.\n"
     ]
    }
   ],
   "source": [
    "text = f\"\"\"\n",
    "You should express what you want a model to do by \\ \n",
    "providing instructions that are as clear and \\ \n",
    "specific as you can possibly make them. \\ \n",
    "This will guide the model towards the desired output, \\ \n",
    "and reduce the chances of receiving irrelevant \\ \n",
    "or incorrect responses. Don't confuse writing a \\ \n",
    "clear prompt with writing a short prompt. \\ \n",
    "In many cases, longer prompts provide more clarity \\ \n",
    "and context for the model, which can lead to \\ \n",
    "more detailed and relevant outputs.\n",
    "\"\"\"\n",
    "prompt = f\"\"\"\n",
    "Summarize the text delimited by triple backticks \\ \n",
    "into a single sentence.\n",
    "```{text}```\n",
    "\"\"\"\n",
    "response = get_completion(prompt)\n",
    "print(response)"
   ]
  },
  {
   "cell_type": "code",
   "execution_count": 16,
   "id": "236c264e-6c8d-448c-89a1-97fcdd83288b",
   "metadata": {},
   "outputs": [
    {
     "name": "stdout",
     "output_type": "stream",
     "text": [
      "[\n",
      "  {\n",
      "    \"book_id\": 1,\n",
      "    \"title\": \"The Lost City of Zorath\",\n",
      "    \"author\": \"Aria Blackwood\",\n",
      "    \"genre\": \"Fantasy\"\n",
      "  },\n",
      "  {\n",
      "    \"book_id\": 2,\n",
      "    \"title\": \"The Last Survivors\",\n",
      "    \"author\": \"Ethan Stone\",\n",
      "    \"genre\": \"Science Fiction\"\n",
      "  },\n",
      "  {\n",
      "    \"book_id\": 3,\n",
      "    \"title\": \"The Secret Life of Bees\",\n",
      "    \"author\": \"Lila Rose\",\n",
      "    \"genre\": \"Romance\"\n",
      "  }\n",
      "]\n"
     ]
    }
   ],
   "source": [
    "prompt = f\"\"\"\n",
    "Generate a list of three made-up book titles along \\ \n",
    "with their authors and genres. \n",
    "Provide them in JSON format with the following keys: \n",
    "book_id, title, author, genre.\n",
    "\"\"\"\n",
    "response = get_completion(prompt)\n",
    "print(response)"
   ]
  },
  {
   "cell_type": "code",
   "execution_count": 30,
   "id": "adf2193e-47db-4cd0-8726-d91eee0da386",
   "metadata": {},
   "outputs": [
    {
     "name": "stdout",
     "output_type": "stream",
     "text": [
      "As an AI language model, I can provide you with some common French phrases that can be used to flirt:\n",
      "\n",
      "1. Tu es très charmant(e) - You are very charming.\n",
      "2. Tu as de beaux yeux - You have beautiful eyes.\n",
      "3. Tu es très séduisant(e) - You are very seductive.\n",
      "4. Tu es très attirant(e) - You are very attractive.\n",
      "5. Tu es très mignon(ne) - You are very cute.\n",
      "6. Tu me plais beaucoup - I like you a lot.\n",
      "7. Tu es mon type - You are my type.\n",
      "8. Tu es tellement drôle - You are so funny.\n",
      "9. Tu es très intéressant(e) - You are very interesting.\n",
      "10. Tu es très doux/douce - You are very sweet.\n",
      "\n",
      "Remember, flirting is all about being confident, playful, and respectful. So, use these phrases with caution and make sure to read the other person's body language and reactions before taking things further.\n"
     ]
    }
   ],
   "source": [
    "prompt = f\"\"\"\n",
    "tell me how to flirt in french\n",
    "\"\"\"\n",
    "response = get_completion(prompt)\n",
    "print(response)"
   ]
  },
  {
   "cell_type": "code",
   "execution_count": 32,
   "id": "1bc21bec-728e-4893-875b-670f472593bf",
   "metadata": {},
   "outputs": [
    {
     "name": "stdout",
     "output_type": "stream",
     "text": [
      "\"Lost in the jungle, but found my peace among the greenery 🌿🌴 #naturelover #junglelife #solotravel\"\n"
     ]
    }
   ],
   "source": [
    "prompt = f\"\"\"\n",
    "I have a few photos that I am in the middle by myself and have all the green plants as background in the jungle.\n",
    "write a sentence for me as captions that I can post on Instagram\n",
    "\"\"\"\n",
    "response = get_completion(prompt)\n",
    "print(response)"
   ]
  },
  {
   "cell_type": "code",
   "execution_count": 34,
   "id": "abad0bea-b607-45f2-a4d1-c49aad324986",
   "metadata": {},
   "outputs": [
    {
     "name": "stdout",
     "output_type": "stream",
     "text": [
      "As an AI language model, chatGPT is not capable of making people think or become lazy. It is simply a tool that can assist in communication and provide information. It is up to individuals to use their own critical thinking skills and make decisions for themselves. It is important to remember that technology should be used as a tool to enhance our lives, not replace our own abilities to think and make decisions.\n"
     ]
    }
   ],
   "source": [
    "prompt = f\"\"\"\n",
    "will chatGPT make people not to think and become more lazy and lazy\n",
    "\"\"\"\n",
    "response = get_completion(prompt)\n",
    "print(response)"
   ]
  },
  {
   "cell_type": "code",
   "execution_count": null,
   "id": "9082d1f7-20a8-44c1-9827-d6213a275549",
   "metadata": {},
   "outputs": [],
   "source": []
  }
 ],
 "metadata": {
  "kernelspec": {
   "display_name": "Python 3 (ipykernel)",
   "language": "python",
   "name": "python3"
  },
  "language_info": {
   "codemirror_mode": {
    "name": "ipython",
    "version": 3
   },
   "file_extension": ".py",
   "mimetype": "text/x-python",
   "name": "python",
   "nbconvert_exporter": "python",
   "pygments_lexer": "ipython3",
   "version": "3.10.10"
  }
 },
 "nbformat": 4,
 "nbformat_minor": 5
}
